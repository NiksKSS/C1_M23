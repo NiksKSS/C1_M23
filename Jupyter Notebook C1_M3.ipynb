{
 "cells": [
  {
   "cell_type": "markdown",
   "id": "2112580c-1960-482b-9841-3d4b4d9e8c89",
   "metadata": {},
   "source": [
    "Table of contest"
   ]
  },
  {
   "cell_type": "markdown",
   "id": "f079b4f6-d0a7-4c9a-b46a-d1d68e458638",
   "metadata": {},
   "source": [
    "1. Подключение библиотек"
   ]
  },
  {
   "cell_type": "code",
   "execution_count": 38,
   "id": "a245e31c-72e4-4cd6-aac6-7ce8b3f95a59",
   "metadata": {},
   "outputs": [],
   "source": [
    "import os\n",
    "import yaml\n",
    "import time\n",
    "import zipfile\n",
    "from pathlib import Path\n",
    "from datetime import datetime\n",
    "from ultralytics import YOLO\n",
    "import shutil"
   ]
  },
  {
   "cell_type": "markdown",
   "id": "96d345fe-f9a0-4e76-b0f7-ffbdf896b5c2",
   "metadata": {},
   "source": [
    "2. Создание класса YOLO"
   ]
  },
  {
   "cell_type": "markdown",
   "id": "4bbf27e7-e56c-47b5-abba-9e9971b1069c",
   "metadata": {},
   "source": [
    "2.1 Словарь для сопоставления типов моделей с их весами"
   ]
  },
  {
   "cell_type": "code",
   "execution_count": 39,
   "id": "c7e27936-acb3-4975-868d-34abc4d3d938",
   "metadata": {},
   "outputs": [],
   "source": [
    "    def __init__(self):\n",
    "        # Словарь для сопоставления типов моделей с их весами\n",
    "        self.model_map = {\n",
    "            'yolov8n': 'yolov8n.pt',\n",
    "            'yolov8s': 'yolov8s.pt',\n",
    "            'yolov8m': 'yolov8m.pt'\n",
    "        }\n",
    "        self.metrics = {}  # Словарь для хранения метрик после обучения\n",
    "        self.training_time = 0  # Время обучения"
   ]
  },
  {
   "cell_type": "markdown",
   "id": "c42eedb4-8b12-43f7-b49c-70979665a680",
   "metadata": {},
   "source": [
    "2.2 Подготовка структуры данных YOLO из указанного zip-архива"
   ]
  },
  {
   "cell_type": "code",
   "execution_count": 40,
   "id": "06a4bc05-1a3d-4cae-92b2-d042d3a4c2af",
   "metadata": {},
   "outputs": [],
   "source": [
    "    def _prepare_dataset(self, zip_path: str):\n",
    "        extract_dir = Path(\"dataset\")  \n",
    "        with zipfile.ZipFile(zip_path, 'r') as zip_ref: #Распаковка zip-архива с изображениями\n",
    "                zip_ref.extractall(extract_dir)# Директория для распаковки данных\n",
    "        for split in ['train', 'val']:\n",
    "                    split_path = extract_dir / split\n",
    "                    if split_path.exists():\n",
    "                        self._generate_annotations(split_path) #Генерация аннотаций для обучающей и валидационной выборок\n",
    "        return self._create_data_yaml(extract_dir)"
   ]
  },
  {
   "cell_type": "markdown",
   "id": "1984a336-4c72-4404-a921-e30b98b5b65a",
   "metadata": {},
   "source": [
    "2.3 Генерация YOLO-аннотаций из структуры папок"
   ]
  },
  {
   "cell_type": "code",
   "execution_count": 41,
   "id": "9efaa643-5d28-447a-9f65-8d8cc8e018cd",
   "metadata": {},
   "outputs": [],
   "source": [
    "    def _generate_annotations(self, split_path: Path):\n",
    "        for class_dir in split_path.iterdir():\n",
    "            if class_dir.is_dir() and '-' in class_dir.name:\n",
    "                try:\n",
    "                    # Извлечение ID класса из имени директории\n",
    "                    class_id = int(class_dir.name.split('-')[0])\n",
    "                    label_path = split_path.parent / 'labels' / class_dir.name\n",
    "                    label_path.mkdir(parents=True, exist_ok=True)  # Создание директории для аннотаций\n",
    "\n",
    "                    # Генерация аннотаций для каждого изображения\n",
    "                    for img in class_dir.glob('*.*'):\n",
    "                        if img.suffix.lower() in ['.jpg', '.jpeg', '.png']:\n",
    "                            with open(label_path / f\"{img.stem}.txt\", 'w') as f:\n",
    "                                f.write(f\"{class_id} 0.5 0.5 1.0 1.0\")  # Запись аннотации\n",
    "                except ValueError:\n",
    "                    continue  # Игнорирование ошибок преобразования"
   ]
  },
  {
   "cell_type": "markdown",
   "id": "2c17d760-8416-45d7-beae-8796ec58e2bc",
   "metadata": {},
   "source": [
    "2.4 Создание конфигурационного файла YOLO"
   ]
  },
  {
   "cell_type": "code",
   "execution_count": 42,
   "id": "52e15abb-1ad0-4aa1-8105-d92b0000641c",
   "metadata": {},
   "outputs": [],
   "source": [
    "    def _create_data_yaml(self, dataset_path: Path):\n",
    "        classes = set()  # Множество для хранения уникальных классов\n",
    "        for d in (dataset_path / 'train').iterdir():\n",
    "            if d.is_dir() and '-' in d.name:\n",
    "                try:\n",
    "                    classes.add(int(d.name.split('-')[0]))  # Извлечение ID класса\n",
    "                except ValueError:\n",
    "                    continue\n",
    "        config = {\n",
    "            'path': str(dataset_path),\n",
    "            'train': 'train',\n",
    "            'val': 'val',\n",
    "            'names': {i: f\"class_{i}\" for i in sorted(classes)}  # Имена классов\n",
    "        }\n",
    "        config = {\n",
    "            'path': str(dataset_path),\n",
    "            'train': 'train',\n",
    "            'val': 'val',\n",
    "            'names': {i: f\"class_{i}\" for i in sorted(classes)}  # Имена классов\n",
    "        }"
   ]
  },
  {
   "cell_type": "markdown",
   "id": "6b6bd216-2845-4689-99af-57303f83eedf",
   "metadata": {},
   "source": [
    "3. Основной метод для обучения модели"
   ]
  },
  {
   "cell_type": "code",
   "execution_count": 43,
   "id": "d9c4e88d-e48f-4c03-a49f-6f1c4c8afc71",
   "metadata": {},
   "outputs": [
    {
     "ename": "AttributeError",
     "evalue": "'YOLOTrainer' object has no attribute 'train'",
     "output_type": "error",
     "traceback": [
      "\u001b[0;31m---------------------------------------------------------------------------\u001b[0m",
      "\u001b[0;31mAttributeError\u001b[0m                            Traceback (most recent call last)",
      "Cell \u001b[0;32mIn[43], line 53\u001b[0m\n\u001b[1;32m     50\u001b[0m \u001b[38;5;28;01mif\u001b[39;00m \u001b[38;5;18m__name__\u001b[39m \u001b[38;5;241m==\u001b[39m \u001b[38;5;124m\"\u001b[39m\u001b[38;5;124m__main__\u001b[39m\u001b[38;5;124m\"\u001b[39m:\n\u001b[1;32m     51\u001b[0m    trainer \u001b[38;5;241m=\u001b[39m YOLOTrainer()\n\u001b[0;32m---> 53\u001b[0m    result \u001b[38;5;241m=\u001b[39m \u001b[43mtrainer\u001b[49m\u001b[38;5;241;43m.\u001b[39;49m\u001b[43mtrain\u001b[49m(\n\u001b[1;32m     54\u001b[0m        model_type\u001b[38;5;241m=\u001b[39m\u001b[38;5;124m'\u001b[39m\u001b[38;5;124myolov8n\u001b[39m\u001b[38;5;124m'\u001b[39m,\n\u001b[1;32m     55\u001b[0m        epochs\u001b[38;5;241m=\u001b[39m\u001b[38;5;241m50\u001b[39m,\n\u001b[1;32m     56\u001b[0m        batch\u001b[38;5;241m=\u001b[39m\u001b[38;5;241m32\u001b[39m,\n\u001b[1;32m     57\u001b[0m        imgsz\u001b[38;5;241m=\u001b[39m\u001b[38;5;241m640\u001b[39m,\n\u001b[1;32m     58\u001b[0m        lr0\u001b[38;5;241m=\u001b[39m\u001b[38;5;241m0.01\u001b[39m,\n\u001b[1;32m     59\u001b[0m        weight_decay\u001b[38;5;241m=\u001b[39m\u001b[38;5;241m0.0005\u001b[39m\n\u001b[1;32m     60\u001b[0m    )\n\u001b[1;32m     62\u001b[0m    \u001b[38;5;28mprint\u001b[39m(\u001b[38;5;124m\"\u001b[39m\u001b[38;5;130;01m\\n\u001b[39;00m\u001b[38;5;124mРезультаты обучения:\u001b[39m\u001b[38;5;124m\"\u001b[39m)\n\u001b[1;32m     63\u001b[0m    \u001b[38;5;28mprint\u001b[39m(\u001b[38;5;124mf\u001b[39m\u001b[38;5;124m\"\u001b[39m\u001b[38;5;124m1. Обученная модель: \u001b[39m\u001b[38;5;132;01m{\u001b[39;00m\u001b[38;5;28mtype\u001b[39m(result[\u001b[38;5;241m0\u001b[39m])\u001b[38;5;241m.\u001b[39m\u001b[38;5;18m__name__\u001b[39m\u001b[38;5;132;01m}\u001b[39;00m\u001b[38;5;124m\"\u001b[39m)\n",
      "\u001b[0;31mAttributeError\u001b[0m: 'YOLOTrainer' object has no attribute 'train'"
     ]
    }
   ],
   "source": [
    " def train(self, model_type: str, **kwargs) -> list:\n",
    "        \"\"\"\n",
    "        Основной метод для обучения модели\n",
    "        \"\"\"\n",
    "        # Указываем путь к вашему архиву\n",
    "        data_zip = \"preprocessed_images.zip\"  # <-- Важное изменение здесь\n",
    "\n",
    "        # Проверка модели\n",
    "        if model_type not in self.model_map:\n",
    "            raise ValueError(f\"Доступные модели: {list(self.model_map.keys())}\")\n",
    "\n",
    "        # Подготовка данных\n",
    "        data_yaml = self._prepare_dataset(data_zip)\n",
    "\n",
    "        # Инициализация модели\n",
    "        model = YOLO(self.model_map[model_type])\n",
    "\n",
    "        # Настройка параметров обучения\n",
    "        params = {\n",
    "            'data': str(data_yaml),\n",
    "            'epochs': 100,\n",
    "            'imgsz': 640,\n",
    "            'batch': 16,\n",
    "            'name': f'train_{datetime.now().strftime(\"%Y%m%d_%H%M%S\")}',\n",
    "            'exist_ok': True\n",
    "        }\n",
    "        params.update(kwargs)\n",
    "\n",
    "        # Обучение с замером времени\n",
    "        start_time = time.time()\n",
    "        model.train(**params)\n",
    "        self.training_time = time.time() - start_time\n",
    "\n",
    "        # Расчет метрик\n",
    "        results = model.val()\n",
    "        self.metrics = {\n",
    "            'accuracy': results.results_dict['metrics/accuracy'],\n",
    "            'roc_auc': results.results_dict['metrics/roc_auc'],\n",
    "            'f1_score': results.results_dict['metrics/f1']\n",
    "        }\n",
    "\n",
    "        return [\n",
    "            model,\n",
    "            self.metrics,\n",
    "            self.training_time / params['epochs'],\n",
    "            self.training_time / 60\n",
    "        ]\n",
    "\n",
    "# Пример использования \n",
    "if __name__ == \"__main__\":\n",
    "    trainer = YOLOTrainer()\n",
    "\n",
    "    result = trainer.train(\n",
    "        model_type='yolov8n',\n",
    "        epochs=50,\n",
    "        batch=32,\n",
    "        imgsz=640,\n",
    "        lr0=0.01,\n",
    "        weight_decay=0.0005\n",
    "    )\n",
    "\n",
    "    print(\"\\nРезультаты обучения:\")\n",
    "    print(f\"1. Обученная модель: {type(result[0]).__name__}\")\n",
    "    print(f\"2. Метрики:\")\n",
    "    for k, v in result[1].items():\n",
    "        print(f\"   - {k}: {v:.4f}\")\n",
    "    print(f\"3. Время на эпоху: {result[2]:.2f} сек\")\n",
    "    print(f\"4. Общее время обучения: {result[3]:.2f} мин\")"
   ]
  }
 ],
 "metadata": {
  "kernelspec": {
   "display_name": "Python 3 (ipykernel)",
   "language": "python",
   "name": "python3"
  },
  "language_info": {
   "codemirror_mode": {
    "name": "ipython",
    "version": 3
   },
   "file_extension": ".py",
   "mimetype": "text/x-python",
   "name": "python",
   "nbconvert_exporter": "python",
   "pygments_lexer": "ipython3",
   "version": "3.11.2"
  }
 },
 "nbformat": 4,
 "nbformat_minor": 5
}
